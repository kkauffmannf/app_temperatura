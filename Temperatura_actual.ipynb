{
 "cells": [
  {
   "cell_type": "code",
   "execution_count": 55,
   "id": "f0b3a8ea",
   "metadata": {},
   "outputs": [],
   "source": [
    "import pandas as pd\n",
    "import numpy as np\n",
    "import requests\n",
    "import json\n",
    "from datetime import timedelta\n",
    "import folium\n",
    "import branca.colormap as cm"
   ]
  },
  {
   "cell_type": "code",
   "execution_count": 56,
   "id": "ee51a245",
   "metadata": {},
   "outputs": [],
   "source": [
    "url = 'https://climatologia.meteochile.gob.cl/application/productos/datosRecientesRedEma'\n",
    "response = json.loads(requests.get(url).text)\n",
    "df_temp = pd.json_normalize(response['datosEstaciones'])\n",
    "df_temp['estacion.nombreEstacion'] = df_temp['estacion.nombreEstacion'].apply(lambda x: x.encode('latin_1').decode('utf8'))"
   ]
  },
  {
   "cell_type": "code",
   "execution_count": 57,
   "id": "3c4aa0fc",
   "metadata": {},
   "outputs": [],
   "source": [
    "# extrae solo la primera entrada de la lista de diccionarios que hay\n",
    "# para cada estación en 'datos', ya que esa es la medición más reciente\n",
    "# se guarda en la columna 'datos_now'\n",
    "\n",
    "df_temp['datos_now'] = df_temp['datos'].str[0]"
   ]
  },
  {
   "cell_type": "code",
   "execution_count": 58,
   "id": "418341ba",
   "metadata": {},
   "outputs": [],
   "source": [
    "# de la medición más reciente (formato diccionario)\n",
    "# se extrae la temperatura y el tiempo\n",
    "\n",
    "df_temp['momento'] = df_temp['datos_now'].str['momento']\n",
    "df_temp['temp_now'] = df_temp['datos_now'].str['temperatura']\n"
   ]
  },
  {
   "cell_type": "code",
   "execution_count": 59,
   "id": "bd66e743",
   "metadata": {
    "scrolled": true
   },
   "outputs": [],
   "source": [
    "# se saca el grados Celsius y se transforma la columna a numérico\n",
    "\n",
    "df_temp['temp_now'] = df_temp['temp_now'].replace(to_replace ='°C', value = '', regex = True)\n",
    "df_temp['temp_now'] = pd.to_numeric(df_temp['temp_now'])\n",
    "df_temp['estacion.latitud'] = pd.to_numeric(df_temp['estacion.latitud'])\n",
    "df_temp['estacion.longitud'] = pd.to_numeric(df_temp['estacion.longitud'])\n",
    "df_temp.dropna(inplace=True)"
   ]
  },
  {
   "cell_type": "code",
   "execution_count": 60,
   "id": "dc552617",
   "metadata": {},
   "outputs": [],
   "source": [
    "# Se le restan 4 horas para que quede en la hora de Chile continental. Se pasa\n",
    "# a string, porque al llevarlo a lista (necesario para el mapa) se pierde el \n",
    "# formato original\n",
    "\n",
    "df_temp['momento'] = pd.to_datetime(df_temp.momento, format='%Y-%m-%d %H:%M:%S')\n",
    "df_temp['momento'] = df_temp['momento']- timedelta(hours=4, minutes=0)\n",
    "df_temp['momento'] = df_temp['momento'].dt.strftime('%H:%M')\n",
    "df_temp['momento'] = df_temp['momento'].astype(str)"
   ]
  },
  {
   "cell_type": "code",
   "execution_count": 62,
   "id": "cfccd1fd",
   "metadata": {},
   "outputs": [],
   "source": [
    "# Create a base map centered at a specific location\n",
    "map_center = [-33.447487, -70.673676]  # Coordinates for New York City\n",
    "map_zoom = 10\n",
    "map_object = folium.Map(location=map_center, zoom_start=map_zoom)\n",
    "\n",
    "lons = df_temp['estacion.longitud'].values.tolist()\n",
    "lats = df_temp['estacion.latitud'].values.tolist()\n",
    "temps = df_temp['temp_now'].values.tolist()\n",
    "momentos = df_temp['momento'].values.tolist()\n",
    "nombre_estacion = df_temp['estacion.nombreEstacion'].values.tolist()\n",
    "\n",
    "linear = cm.LinearColormap([\"blue\", \"lightyellow\" , \"red\"]).scale(min(temps), max(temps))\n",
    "\n",
    "for n in range(len(lons)-1):\n",
    "    \n",
    "    html_msg = \"\"\"\n",
    "                <ul>\n",
    "                  <li> Temperatura: {}</li>\"\"\".format(temps[n]) + \"\"\"\n",
    "                  <li> Hora registrada: {}</li>\"\"\".format(momentos[n]) + \"\"\"\n",
    "                  <li> Nombre lugar: {}</li>\"\"\".format(nombre_estacion[n]) + \"\"\"\n",
    "                </ul>\n",
    "                \"\"\"\n",
    "    \n",
    "    folium.CircleMarker([lats[n], lons[n]],\n",
    "                        radius = 15,\n",
    "                        stroke = False,\n",
    "                        weight = 1,\n",
    "                        color = 'black',\n",
    "                        #tooltip = [temps[n], momentos[n]],\n",
    "                        #tooltip = '<h1> This is a big popup</h1><br> With a few lines of code... <p><code>sfdsfds</p>',\n",
    "                        tooltip = html_msg,\n",
    "                        fillOpacity = 0.9,\n",
    "                        fill_color = linear(temps[n])).add_to(map_object)\n",
    "    \n",
    "linear.caption = \"Temperaturas\"\n",
    "map_object.add_child(linear)\n",
    "    \n",
    "# Display the map\n",
    "map_object\n",
    "# Save the map to an HTML file\n",
    "map_object.save('templates/weather_test_now.html')"
   ]
  },
  {
   "cell_type": "code",
   "execution_count": null,
   "id": "5d357891",
   "metadata": {},
   "outputs": [],
   "source": []
  }
 ],
 "metadata": {
  "kernelspec": {
   "display_name": "Python 3 (ipykernel)",
   "language": "python",
   "name": "python3"
  },
  "language_info": {
   "codemirror_mode": {
    "name": "ipython",
    "version": 3
   },
   "file_extension": ".py",
   "mimetype": "text/x-python",
   "name": "python",
   "nbconvert_exporter": "python",
   "pygments_lexer": "ipython3",
   "version": "3.10.6"
  }
 },
 "nbformat": 4,
 "nbformat_minor": 5
}
